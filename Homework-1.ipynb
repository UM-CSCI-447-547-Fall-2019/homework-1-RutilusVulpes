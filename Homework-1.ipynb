{
 "cells": [
  {
   "cell_type": "markdown",
   "metadata": {},
   "source": [
    "# Homework 1: Reading data and regression\n",
    "## Due September 5th\n",
    "\n",
    "In class we've been working on developing the tools for linear regression.  In this homework, we'll use those tools to show that one of the original 'big data' problems can be solved quite credibly with ordinary least squares.  Note that this exercise is primarily intended to do two things: 1) provide you with some practice gathering data, and 2) evaluate your ability to reason somewhat abstractly about models.  With respect to the second point, it is in your grade's interest to provide complete and well-reasoned answers to narrative questions posed.  A correct answer can be awarded very few points if its reasoning is absent or unclear, and an incorrect answer can be awarded full points if it is well argued.   \n",
    "\n",
    "Please turn in your work via github classroom.\n",
    "\n",
    "## The big one\n",
    "If you've ever lived in an area prone to seismic activity, you know that people are always a little apprehensive about *the big one*, that giant earthquake (Magnitude greater than 7) that is going to break the pots and collapse the overpasses.  However, the big one rarely happens... until it does.  What happens more frequently is smaller earthquakes.  And even more frequently than that, even smaller earthquakes.  In fact, it's long been understood that earthquake frequency has an inverse relationship with magnitude.  Here, we're going to quantify that relationship for the west coast of the US.  \n",
    "\n",
    "## Data wrangling\n",
    "The first thing that we'll need to do is to aquire a dataset that can help us say something about earthquake frequency.  Fortunately, the United States Geologic Survey keeps such a database.  \n",
    "\n",
    "First, navigate to https://earthquake.usgs.gov/earthquakes/search/.  This is the USGS' central repository for earthquake data.  We'll be interested in data from the last twenty years.  Enter the appropriate date.  Next, we're interested in data from the west coast of the lower 48.  Use the Custom Geographic Region button on the right side of the page, followed by the Draw Rectangle on the Map button.  Draw a rectangle around the west coast, from the Canadian to Mexican border.  Next, open the Output Options tab and select .csv (comma separated values, a plain text format).  Finally, under Limit Results, enter 19999 (the site will throw an error if you make this value bigger).  This series of commands will deliver the ~20k most recent earthquakes of all sizes to occur in this region of the world.  It may take a moment for their server to pull your query together. Download the file.\n",
    "\n",
    "Next, import the data into ipython.  This is easily done with [Pandas' read_csv function](https://pandas.pydata.org/pandas-docs/stable/reference/api/pandas.read_csv.html)."
   ]
  },
  {
   "cell_type": "code",
   "execution_count": 309,
   "metadata": {},
   "outputs": [],
   "source": [
    "# Use pandas to import the earthquake data file here\n",
    "import pandas\n",
    "csvFile = pandas.read_csv(\"query.csv\")"
   ]
  },
  {
   "cell_type": "markdown",
   "metadata": {},
   "source": [
    "Interrogate the Pandas dataframe for the available fields using its built in method 'keys'\n"
   ]
  },
  {
   "cell_type": "code",
   "execution_count": 310,
   "metadata": {},
   "outputs": [],
   "source": [
    "minMag = csvFile.min(axis=0).mag\n",
    "maxMag = csvFile.max(axis=0).mag\n",
    "#print csvFile.keys"
   ]
  },
  {
   "cell_type": "markdown",
   "metadata": {},
   "source": [
    "We're primarily interested in determining the relationship between relative frequency and magnitude.  Extract the magnitude variable from the pandas data frame using the 'mag' key.  \n",
    "\n",
    "Next, you'll need to determine the number of earthquakes that occured in the data as a function of magnitude.  This is easily done by deciding on a set of bins, and then counting the number of items in each bin.  This is also known as a [histogram](https://docs.scipy.org/doc/numpy/reference/generated/numpy.histogram.html), and is easily computed using either numpy or matplotlib.  You'll want to use a fairly large number of bins, say 50 (equally spaced).  *Note that the histogram function provided by either of the above libraries returns total counts rather than relative frequencies: you'll need to compute relative frequencies by dividing the returned counts by the total number of earthquakes in the dataset.*"
   ]
  },
  {
   "cell_type": "code",
   "execution_count": 311,
   "metadata": {},
   "outputs": [
    {
     "name": "stdout",
     "output_type": "stream",
     "text": [
      "50\n",
      "49\n"
     ]
    }
   ],
   "source": [
    "import numpy as np\n",
    "bins = np.linspace(minMag,maxMag,50)\n",
    "\n",
    "\n",
    "print(bins.size)\n",
    "\n",
    "binned = np.digitize(csvFile.mag,bins,right = True)\n",
    "print(np.amax(binned))"
   ]
  },
  {
   "cell_type": "markdown",
   "metadata": {},
   "source": [
    "**(20 pts) Make a plot with bin centroids on the $x$-axis and relative frequency on the $y$-axis.  Based on your results, please provide a few sentences describing whether the model $y = w_0 + w_1 x$ is a good fit to the data, if $x$ represents earthquake magnitude and $y$ represents relative frequency.**\n",
    "\n",
    "!Answers go here"
   ]
  },
  {
   "cell_type": "code",
   "execution_count": 312,
   "metadata": {},
   "outputs": [
    {
     "name": "stdout",
     "output_type": "stream",
     "text": [
      "[2.         2.10408163 2.20816327 2.3122449  2.41632653 2.52040816\n",
      " 2.6244898  2.72857143 2.83265306 2.93673469 3.04081633 3.14489796\n",
      " 3.24897959 3.35306122 3.45714286 3.56122449 3.66530612 3.76938776\n",
      " 3.87346939 3.97755102 4.08163265 4.18571429 4.28979592 4.39387755\n",
      " 4.49795918 4.60204082 4.70612245 4.81020408 4.91428571 5.01836735\n",
      " 5.12244898 5.22653061 5.33061224 5.43469388 5.53877551 5.64285714\n",
      " 5.74693878 5.85102041 5.95510204 6.05918367 6.16326531 6.26734694\n",
      " 6.37142857 6.4755102  6.57959184 6.68367347 6.7877551  6.89183673\n",
      " 6.99591837 7.1       ]\n"
     ]
    },
    {
     "data": {
      "text/plain": [
       "<function matplotlib.pyplot.show(*args, **kw)>"
      ]
     },
     "execution_count": 312,
     "metadata": {},
     "output_type": "execute_result"
    },
    {
     "data": {
      "image/png": "[encoded data removed]",
      "text/plain": [
       "<Figure size 432x288 with 1 Axes>"
      ]
     },
     "metadata": {
      "needs_background": "light"
     },
     "output_type": "display_data"
    }
   ],
   "source": [
    "import matplotlib as mpl\n",
    "import matplotlib.pyplot as plt\n",
    "\n",
    "binCounts = np.zeros(50)\n",
    "normalizedCounts = np.zeros(50)\n",
    "for d in binned:\n",
    "    binCounts[d]+=1\n",
    "for i in range(binCounts.size):\n",
    "    normalizedCounts[i] = binCounts[i]/binned.size\n",
    "print(bins)\n",
    "#for i in range(50):\n",
    "    #bins[i]+= (1/50)*5\n",
    "    \n",
    "\n",
    "    \n",
    "plt.plot(bins,binCounts,'bo')\n",
    "\n",
    "plt.show"
   ]
  },
  {
   "cell_type": "markdown",
   "metadata": {},
   "source": [
    "As it turns out, a physical model that gives the predicted relative frequency of earthquakes of different magnitudes can be derived from physics, and is given by a so-called *power-law*\n",
    "$$\n",
    "y = ax^b\n",
    "$$\n",
    "**(20pts) If you wanted to directly fit this power-law model to these data, would you be able to use the linear regression code that we've already developed to do so?  If so, how?  If not, why not?**\n",
    "\n",
    "!Answers go here"
   ]
  },
  {
   "cell_type": "code",
   "execution_count": 313,
   "metadata": {},
   "outputs": [],
   "source": [
    "#Yes, We would be able to use the linear regression code that we've already developed.\n",
    "#However, it would require transforming the data into a linear form by using the appropriate log transformation. \n",
    "#This would result in both the data and the power law being expressed in linear form. I'm bad at math, but I feel like \n",
    "#There is probabably a better way to do it than reusing our linear regression code. "
   ]
  },
  {
   "cell_type": "markdown",
   "metadata": {},
   "source": [
    "As it turns out, it is not possible to use linear regression to fit this model directly.  However, it can be done by using a clever transformation of the data.  **(20pts) Plot the base-10 logarithm of the event counts.  Now does a linear model seem like a good fit?  If the power law is a good fit to the untransformed data, why does it make sense that a linear model should fit the log-transformed data (HINT: take the logarithm of both sides of the power law)**\n",
    "\n",
    "!Answers go here"
   ]
  },
  {
   "cell_type": "code",
   "execution_count": 314,
   "metadata": {},
   "outputs": [
    {
     "name": "stdout",
     "output_type": "stream",
     "text": [
      "[7.220e+02 3.536e+03 2.770e+03 2.553e+03 1.881e+03 1.631e+03 1.256e+03\n",
      " 1.039e+03 9.090e+02 6.980e+02 6.000e+02 4.080e+02 3.310e+02 3.020e+02\n",
      " 2.390e+02 2.660e+02 1.440e+02 1.030e+02 1.100e+02 7.800e+01 7.500e+01\n",
      " 6.800e+01 5.100e+01 5.300e+01 3.600e+01 4.500e+01 1.600e+01 1.000e+01\n",
      " 1.500e+01 9.000e+00 5.000e+00 5.000e+00 6.000e+00 6.000e+00 6.000e+00\n",
      " 5.000e+00 1.000e+00 2.000e+00 1.000e+00 0.000e+00 0.000e+00 1.000e+00\n",
      " 1.000e+00 1.000e+00 2.000e+00 1.000e+00 0.000e+00 1.000e+00 0.000e+00\n",
      " 1.000e+00]\n",
      "[2.8585372  3.54851226 3.44247977 3.40705081 3.2743888  3.21245396\n",
      " 3.09898964 3.01661555 2.95856388 2.84385542 2.77815125 2.61066016\n",
      " 2.51982799 2.48000694 2.3783979  2.42488164 2.15836249 2.01283722\n",
      " 2.04139269 1.8920946  1.87506126 1.83250891 1.70757018 1.72427587\n",
      " 1.5563025  1.65321251 1.20411998 1.         1.17609126 0.95424251\n",
      " 0.69897    0.69897    0.77815125 0.77815125 0.77815125 0.69897\n",
      " 0.         0.30103    0.         0.         0.         0.\n",
      " 0.         0.         0.30103    0.         0.         0.\n",
      " 0.         0.        ]\n"
     ]
    },
    {
     "data": {
      "text/plain": [
       "<function matplotlib.pyplot.show(*args, **kw)>"
      ]
     },
     "execution_count": 314,
     "metadata": {},
     "output_type": "execute_result"
    },
    {
     "data": {
      "image/png": "[encoded data removed]",
      "text/plain": [
       "<Figure size 432x288 with 1 Axes>"
      ]
     },
     "metadata": {
      "needs_background": "light"
     },
     "output_type": "display_data"
    }
   ],
   "source": [
    "print(binCounts)\n",
    "logCounts = np.zeros(50)\n",
    "\n",
    "for i in range(binCounts.size):\n",
    "    if binCounts[i] > 1:\n",
    "        logCounts[i] = np.log10(binCounts[i])\n",
    "    \n",
    "print(logCounts)\n",
    "\n",
    "plt.plot(bins,logCounts,'bo')\n",
    "plt.show\n",
    "\n",
    "#Yes, a linear model does seem like a good fit. The data appears quite linear after the log10 transformation. \n",
    "#It makes sense that a linear model should be a good fit, this can be seen by\n",
    "#taking the log of the power funciton, which results in y = bx + a, or a line. "
   ]
  },
  {
   "cell_type": "markdown",
   "metadata": {},
   "source": [
    "Finally, **(40pts) use one of the methods that you developed for linear regression in class to fit a line to the log-transformed counts.  What is the slope of that line?  Is the model a good fit for all sizes of earthquake?**\n",
    "\n",
    "!Answers go here"
   ]
  },
  {
   "cell_type": "code",
   "execution_count": 316,
   "metadata": {},
   "outputs": [
    {
     "data": {
      "image/png": "[encoded data removed]",
      "text/plain": [
       "<Figure size 432x288 with 1 Axes>"
      ]
     },
     "metadata": {
      "needs_background": "light"
     },
     "output_type": "display_data"
    },
    {
     "name": "stdout",
     "output_type": "stream",
     "text": [
      "[ 5.02572182 -0.77631306]\n"
     ]
    }
   ],
   "source": [
    "def fit_poly(x,y,d):\n",
    "    # Fit a polynomial of degree d to the univariate data (x,y)\n",
    "    # Note technically, this fits a polynomial of degree d-1 (d=1 fits a constant, d=2 a line, etc.)\n",
    "    X = np.vander(x,d,increasing=True)\n",
    "    w = np.linalg.solve(X.T@X,X.T@y.ravel())\n",
    "    y_pred = X @ w\n",
    "    return y_pred,w\n",
    "\n",
    "def evaluate_poly(x,w):\n",
    "    # For a given set of weights (e.g. the ones produced by fit_poly),\n",
    "    # evaluate the model on x\n",
    "    X = np.vander(x,len(w),increasing=True)\n",
    "    return X @ w\n",
    "\n",
    "def get_smooth_prediction(w,xmin=minMag,xmax=maxMag):\n",
    "    # The test and training data are out of order and irregularly spaced;\n",
    "    # if we want to look at the resulting curves, we want to evaluate the \n",
    "    # fitted polynomial on a dataset that is smooth and dense.\n",
    "    x = np.linspace(xmin,xmax,101)\n",
    "    y = evaluate_poly(x,w)\n",
    "  \n",
    "    return x,y\n",
    "\n",
    "d = 2\n",
    "\n",
    "y_pred_train,w = fit_poly(bins,logCounts,d)\n",
    "x_plotting,y_plotting = get_smooth_prediction(w)\n",
    "plt.plot(bins,logCounts,'ro')\n",
    "plt.plot(x_plotting,y_plotting,'k-')\n",
    "plt.show()\n",
    "print(w)\n",
    "#I used dougs version because its a million times cleaner than mine. I had some trouble recovering low magnitude earthquakes from the \n",
    "#website, so I bounded the problem to the min and max data to precvent distortion. Even then, there are serveral zero counts for high\n",
    "#mag bins, which has skewed the fit of the line somewhat. However, overall the line is an excellent fit to the data we observed.\n",
    "#All deviance from the fit can be described by either data sampling error (as is the issue with the first point, i'm sure not all low mag points were recovered) \n",
    "#And for high points, the stochasticity of having few samples results in larger variation.\n",
    "#The slope of the line is -.77 The model does appear to be a good fit, barring above issues. "
   ]
  },
  {
   "cell_type": "code",
   "execution_count": null,
   "metadata": {},
   "outputs": [],
   "source": []
  }
 ],
 "metadata": {
  "kernelspec": {
   "display_name": "Python 3",
   "language": "python",
   "name": "python3"
  },
  "language_info": {
   "codemirror_mode": {
    "name": "ipython",
    "version": 3
   },
   "file_extension": ".py",
   "mimetype": "text/x-python",
   "name": "python",
   "nbconvert_exporter": "python",
   "pygments_lexer": "ipython3",
   "version": "3.7.4"
  }
 },
 "nbformat": 4,
 "nbformat_minor": 2
}
